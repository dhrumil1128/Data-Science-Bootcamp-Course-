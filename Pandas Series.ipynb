{
 "cells": [
  {
   "cell_type": "code",
   "execution_count": 3,
   "id": "bdc02cd7",
   "metadata": {},
   "outputs": [
    {
     "name": "stdout",
     "output_type": "stream",
     "text": [
      "Print the Series of list :\n",
      " 0    1\n",
      "1    2\n",
      "2    4\n",
      "3    6\n",
      "4    8\n",
      "5    9\n",
      "dtype: int64\n"
     ]
    }
   ],
   "source": [
    "import pandas as pd \n",
    "\n",
    "a = [1,2,4,6,8,9]\n",
    "s1 = pd.Series(a)\n",
    "print(\"Print the Series of list :\\n\" , s1)"
   ]
  },
  {
   "cell_type": "markdown",
   "id": "c7b7e363",
   "metadata": {},
   "source": [
    "# for dictionary "
   ]
  },
  {
   "cell_type": "code",
   "execution_count": 9,
   "id": "0340c484",
   "metadata": {},
   "outputs": [
    {
     "name": "stdout",
     "output_type": "stream",
     "text": [
      "one         10\n",
      "second     100\n",
      "third     1000\n",
      "Four      1254\n",
      "dtype: int64\n"
     ]
    }
   ],
   "source": [
    "import pandas as pd\n",
    "\n",
    "d1 ={\"one\" :10 ,\"second\" :100 ,\"third\" :1000 , \"Four\" : 1254}\n",
    "s2 = pd.Series (d1)\n",
    "print(s2)"
   ]
  },
  {
   "cell_type": "code",
   "execution_count": null,
   "id": "2c044cfa",
   "metadata": {},
   "outputs": [],
   "source": []
  }
 ],
 "metadata": {
  "kernelspec": {
   "display_name": "Python 3 (ipykernel)",
   "language": "python",
   "name": "python3"
  },
  "language_info": {
   "codemirror_mode": {
    "name": "ipython",
    "version": 3
   },
   "file_extension": ".py",
   "mimetype": "text/x-python",
   "name": "python",
   "nbconvert_exporter": "python",
   "pygments_lexer": "ipython3",
   "version": "3.10.9"
  }
 },
 "nbformat": 4,
 "nbformat_minor": 5
}
