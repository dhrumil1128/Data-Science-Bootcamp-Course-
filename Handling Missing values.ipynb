{
 "cells": [
  {
   "cell_type": "markdown",
   "id": "0f57f618",
   "metadata": {},
   "source": []
  },
  {
   "cell_type": "code",
   "execution_count": 2,
   "id": "91429716",
   "metadata": {},
   "outputs": [],
   "source": [
    "import pandas as pd "
   ]
  },
  {
   "cell_type": "code",
   "execution_count": 12,
   "id": "7657cb62",
   "metadata": {},
   "outputs": [],
   "source": [
    "df = pd.read_csv(r\"C:\\Users\\Dhrumil\\Desktop\\Data Science Bootcamp\\CARS_1.csv\")"
   ]
  },
  {
   "cell_type": "code",
   "execution_count": 13,
   "id": "e946fd10",
   "metadata": {},
   "outputs": [
    {
     "data": {
      "text/html": [
       "<div>\n",
       "<style scoped>\n",
       "    .dataframe tbody tr th:only-of-type {\n",
       "        vertical-align: middle;\n",
       "    }\n",
       "\n",
       "    .dataframe tbody tr th {\n",
       "        vertical-align: top;\n",
       "    }\n",
       "\n",
       "    .dataframe thead th {\n",
       "        text-align: right;\n",
       "    }\n",
       "</style>\n",
       "<table border=\"1\" class=\"dataframe\">\n",
       "  <thead>\n",
       "    <tr style=\"text-align: right;\">\n",
       "      <th></th>\n",
       "      <th>Sr No.</th>\n",
       "      <th>car_name</th>\n",
       "      <th>reviews_count</th>\n",
       "      <th>fuel_type</th>\n",
       "      <th>engine_displacement</th>\n",
       "      <th>no_cylinder</th>\n",
       "      <th>seating_capacity</th>\n",
       "      <th>transmission_type</th>\n",
       "      <th>fuel_tank_capacity</th>\n",
       "      <th>body_type</th>\n",
       "      <th>rating</th>\n",
       "      <th>starting_price</th>\n",
       "      <th>ending_price</th>\n",
       "      <th>max_torque_nm</th>\n",
       "      <th>max_torque_rpm</th>\n",
       "      <th>max_power_bhp</th>\n",
       "      <th>max_power_rp</th>\n",
       "    </tr>\n",
       "  </thead>\n",
       "  <tbody>\n",
       "    <tr>\n",
       "      <th>0</th>\n",
       "      <td>1</td>\n",
       "      <td>Maruti Alto K10</td>\n",
       "      <td>51</td>\n",
       "      <td>Petrol</td>\n",
       "      <td>998</td>\n",
       "      <td>3</td>\n",
       "      <td>5.0</td>\n",
       "      <td>Automatic</td>\n",
       "      <td>27.0</td>\n",
       "      <td>Hatchback</td>\n",
       "      <td>4.5</td>\n",
       "      <td>399000</td>\n",
       "      <td>583000</td>\n",
       "      <td>89.0</td>\n",
       "      <td>3500</td>\n",
       "      <td>65.71</td>\n",
       "      <td>5500</td>\n",
       "    </tr>\n",
       "    <tr>\n",
       "      <th>1</th>\n",
       "      <td>2</td>\n",
       "      <td>Maruti Brezza</td>\n",
       "      <td>86</td>\n",
       "      <td>Petrol</td>\n",
       "      <td>1462</td>\n",
       "      <td>4</td>\n",
       "      <td>5.0</td>\n",
       "      <td>Automatic</td>\n",
       "      <td>48.0</td>\n",
       "      <td>SUV</td>\n",
       "      <td>4.5</td>\n",
       "      <td>799000</td>\n",
       "      <td>1396000</td>\n",
       "      <td>136.8</td>\n",
       "      <td>4400</td>\n",
       "      <td>101.65</td>\n",
       "      <td>6000</td>\n",
       "    </tr>\n",
       "    <tr>\n",
       "      <th>2</th>\n",
       "      <td>3</td>\n",
       "      <td>Mahindra Thar</td>\n",
       "      <td>242</td>\n",
       "      <td>Diesel</td>\n",
       "      <td>2184</td>\n",
       "      <td>4</td>\n",
       "      <td>4.0</td>\n",
       "      <td>Automatic</td>\n",
       "      <td>57.0</td>\n",
       "      <td>SUV</td>\n",
       "      <td>4.5</td>\n",
       "      <td>1353000</td>\n",
       "      <td>1603000</td>\n",
       "      <td>300.0</td>\n",
       "      <td>2800</td>\n",
       "      <td>130.00</td>\n",
       "      <td>3750</td>\n",
       "    </tr>\n",
       "    <tr>\n",
       "      <th>3</th>\n",
       "      <td>4</td>\n",
       "      <td>Mahindra XUV700</td>\n",
       "      <td>313</td>\n",
       "      <td>Diesel</td>\n",
       "      <td>2198</td>\n",
       "      <td>4</td>\n",
       "      <td>7.0</td>\n",
       "      <td>Automatic</td>\n",
       "      <td>60.0</td>\n",
       "      <td>SUV</td>\n",
       "      <td>4.5</td>\n",
       "      <td>1318000</td>\n",
       "      <td>2458000</td>\n",
       "      <td>450.0</td>\n",
       "      <td>2800</td>\n",
       "      <td>182.38</td>\n",
       "      <td>3500</td>\n",
       "    </tr>\n",
       "    <tr>\n",
       "      <th>4</th>\n",
       "      <td>5</td>\n",
       "      <td>Mahindra Scorpio-N</td>\n",
       "      <td>107</td>\n",
       "      <td>Diesel</td>\n",
       "      <td>2198</td>\n",
       "      <td>4</td>\n",
       "      <td>7.0</td>\n",
       "      <td>Automatic</td>\n",
       "      <td>57.0</td>\n",
       "      <td>SUV</td>\n",
       "      <td>4.5</td>\n",
       "      <td>1199000</td>\n",
       "      <td>2390000</td>\n",
       "      <td>400.0</td>\n",
       "      <td>2750</td>\n",
       "      <td>172.45</td>\n",
       "      <td>3500</td>\n",
       "    </tr>\n",
       "  </tbody>\n",
       "</table>\n",
       "</div>"
      ],
      "text/plain": [
       "   Sr No.            car_name  reviews_count fuel_type  engine_displacement  \\\n",
       "0       1     Maruti Alto K10             51    Petrol                  998   \n",
       "1       2       Maruti Brezza             86    Petrol                 1462   \n",
       "2       3       Mahindra Thar            242    Diesel                 2184   \n",
       "3       4     Mahindra XUV700            313    Diesel                 2198   \n",
       "4       5  Mahindra Scorpio-N            107    Diesel                 2198   \n",
       "\n",
       "   no_cylinder  seating_capacity transmission_type  fuel_tank_capacity  \\\n",
       "0            3               5.0         Automatic                27.0   \n",
       "1            4               5.0         Automatic                48.0   \n",
       "2            4               4.0         Automatic                57.0   \n",
       "3            4               7.0         Automatic                60.0   \n",
       "4            4               7.0         Automatic                57.0   \n",
       "\n",
       "   body_type  rating  starting_price  ending_price  max_torque_nm  \\\n",
       "0  Hatchback     4.5          399000        583000           89.0   \n",
       "1        SUV     4.5          799000       1396000          136.8   \n",
       "2        SUV     4.5         1353000       1603000          300.0   \n",
       "3        SUV     4.5         1318000       2458000          450.0   \n",
       "4        SUV     4.5         1199000       2390000          400.0   \n",
       "\n",
       "   max_torque_rpm  max_power_bhp  max_power_rp  \n",
       "0            3500          65.71          5500  \n",
       "1            4400         101.65          6000  \n",
       "2            2800         130.00          3750  \n",
       "3            2800         182.38          3500  \n",
       "4            2750         172.45          3500  "
      ]
     },
     "execution_count": 13,
     "metadata": {},
     "output_type": "execute_result"
    }
   ],
   "source": [
    "df.head()"
   ]
  },
  {
   "cell_type": "code",
   "execution_count": 14,
   "id": "8e5b674f",
   "metadata": {},
   "outputs": [
    {
     "data": {
      "text/plain": [
       "Sr No.                  0\n",
       "car_name                0\n",
       "reviews_count           0\n",
       "fuel_type               0\n",
       "engine_displacement     0\n",
       "no_cylinder             0\n",
       "seating_capacity        1\n",
       "transmission_type      17\n",
       "fuel_tank_capacity      0\n",
       "body_type              20\n",
       "rating                  0\n",
       "starting_price          0\n",
       "ending_price            0\n",
       "max_torque_nm           0\n",
       "max_torque_rpm          0\n",
       "max_power_bhp           0\n",
       "max_power_rp            0\n",
       "dtype: int64"
      ]
     },
     "execution_count": 14,
     "metadata": {},
     "output_type": "execute_result"
    }
   ],
   "source": [
    "df.isnull().sum()"
   ]
  },
  {
   "cell_type": "code",
   "execution_count": 19,
   "id": "acfcf68a",
   "metadata": {},
   "outputs": [],
   "source": [
    "#handle the missing value with mode() :\n",
    "\n",
    "df['body_type'] = df['body_type'].fillna(df['body_type'].mode()[0])"
   ]
  },
  {
   "cell_type": "code",
   "execution_count": 18,
   "id": "729a3f59",
   "metadata": {
    "scrolled": true
   },
   "outputs": [
    {
     "data": {
      "text/plain": [
       "Sr No.                  0\n",
       "car_name                0\n",
       "reviews_count           0\n",
       "fuel_type               0\n",
       "engine_displacement     0\n",
       "no_cylinder             0\n",
       "seating_capacity        1\n",
       "transmission_type      17\n",
       "fuel_tank_capacity      0\n",
       "body_type               0\n",
       "rating                  0\n",
       "starting_price          0\n",
       "ending_price            0\n",
       "max_torque_nm           0\n",
       "max_torque_rpm          0\n",
       "max_power_bhp           0\n",
       "max_power_rp            0\n",
       "dtype: int64"
      ]
     },
     "execution_count": 18,
     "metadata": {},
     "output_type": "execute_result"
    }
   ],
   "source": [
    "df.isnull().sum()"
   ]
  },
  {
   "cell_type": "markdown",
   "id": "8992387a",
   "metadata": {},
   "source": [
    "# Note : SimpleImputer Class from Sklearn :"
   ]
  },
  {
   "cell_type": "code",
   "execution_count": 20,
   "id": "fd956532",
   "metadata": {},
   "outputs": [],
   "source": [
    "import numpy as np\n",
    "\n",
    "# import SimpleImputer class \n",
    "from sklearn.impute import SimpleImputer"
   ]
  },
  {
   "cell_type": "code",
   "execution_count": 21,
   "id": "99760334",
   "metadata": {},
   "outputs": [
    {
     "name": "stdout",
     "output_type": "stream",
     "text": [
      "Orignal Data :\n",
      " [[12, nan, 34], [10, 32, nan], [nan, 11, 20]]\n"
     ]
    }
   ],
   "source": [
    "# Imputer object using the mean strategy and \n",
    "# missing_values type for imputaion \n",
    "\n",
    "imputer = SimpleImputer(missing_values = np.nan , strategy = 'mean')\n",
    "\n",
    "data = [[12 , np.nan ,34] , [10 ,32 , np.nan] , [np.nan , 11,20]]\n",
    "print(\"Orignal Data :\\n\" , data)"
   ]
  },
  {
   "cell_type": "code",
   "execution_count": 27,
   "id": "b056753c",
   "metadata": {},
   "outputs": [
    {
     "name": "stdout",
     "output_type": "stream",
     "text": [
      "SimpleImputer()\n"
     ]
    }
   ],
   "source": [
    "# Fitting the data to the imputer object :\n",
    "imputer = imputer.fit(data)\n",
    "print(imputer)\n",
    "\n"
   ]
  },
  {
   "cell_type": "code",
   "execution_count": 26,
   "id": "1b43dc19",
   "metadata": {},
   "outputs": [
    {
     "name": "stdout",
     "output_type": "stream",
     "text": [
      "imputed Data : \n",
      " [[12.  21.5 34. ]\n",
      " [10.  32.  27. ]\n",
      " [11.  11.  20. ]]\n"
     ]
    }
   ],
   "source": [
    "# Imputing the data :\n",
    "data = imputer.transform(data)\n",
    "print(\"imputed Data : \\n\" , data)"
   ]
  },
  {
   "cell_type": "markdown",
   "id": "08aefd71",
   "metadata": {},
   "source": [
    "# Feature Encoding :"
   ]
  },
  {
   "cell_type": "markdown",
   "id": "ef387651",
   "metadata": {},
   "source": [
    "# 1. One Hot Encoding :"
   ]
  },
  {
   "cell_type": "code",
   "execution_count": 12,
   "id": "f2e0aed6",
   "metadata": {},
   "outputs": [],
   "source": []
  },
  {
   "cell_type": "code",
   "execution_count": 14,
   "id": "a96b695f",
   "metadata": {},
   "outputs": [
    {
     "ename": "TypeError",
     "evalue": "'str' object is not callable",
     "output_type": "error",
     "traceback": [
      "\u001b[1;31m---------------------------------------------------------------------------\u001b[0m",
      "\u001b[1;31mTypeError\u001b[0m                                 Traceback (most recent call last)",
      "Cell \u001b[1;32mIn[14], line 1\u001b[0m\n\u001b[1;32m----> 1\u001b[0m df \u001b[38;5;241m=\u001b[39m \u001b[43mpd\u001b[49m\u001b[38;5;241;43m.\u001b[39;49m\u001b[43mread_csv\u001b[49m\u001b[43m(\u001b[49m\u001b[38;5;124;43mr\u001b[39;49m\u001b[38;5;124;43m\"\u001b[39;49m\u001b[38;5;124;43mC:\u001b[39;49m\u001b[38;5;124;43m\\\u001b[39;49m\u001b[38;5;124;43mUsers\u001b[39;49m\u001b[38;5;124;43m\\\u001b[39;49m\u001b[38;5;124;43mDhrumil\u001b[39;49m\u001b[38;5;124;43m\\\u001b[39;49m\u001b[38;5;124;43mDesktop\u001b[39;49m\u001b[38;5;124;43m\\\u001b[39;49m\u001b[38;5;124;43mData Science Bootcamp\u001b[39;49m\u001b[38;5;124;43m\\\u001b[39;49m\u001b[38;5;124;43mCARS_1.csv\u001b[39;49m\u001b[38;5;124;43m\"\u001b[39;49m\u001b[43m)\u001b[49m\n",
      "\u001b[1;31mTypeError\u001b[0m: 'str' object is not callable"
     ]
    }
   ],
   "source": [
    "df = pd.read_csv(r\"C:\\Users\\Dhrumil\\Desktop\\Data Science Bootcamp\\CARS_1.csv\")"
   ]
  },
  {
   "cell_type": "code",
   "execution_count": 15,
   "id": "40eae152",
   "metadata": {},
   "outputs": [
    {
     "ename": "AttributeError",
     "evalue": "'str' object has no attribute 'head'",
     "output_type": "error",
     "traceback": [
      "\u001b[1;31m---------------------------------------------------------------------------\u001b[0m",
      "\u001b[1;31mAttributeError\u001b[0m                            Traceback (most recent call last)",
      "Cell \u001b[1;32mIn[15], line 1\u001b[0m\n\u001b[1;32m----> 1\u001b[0m \u001b[43mdf\u001b[49m\u001b[38;5;241;43m.\u001b[39;49m\u001b[43mhead\u001b[49m()\n",
      "\u001b[1;31mAttributeError\u001b[0m: 'str' object has no attribute 'head'"
     ]
    }
   ],
   "source": [
    "df.head()"
   ]
  },
  {
   "cell_type": "code",
   "execution_count": null,
   "id": "bf45e780",
   "metadata": {},
   "outputs": [],
   "source": []
  }
 ],
 "metadata": {
  "kernelspec": {
   "display_name": "Python 3 (ipykernel)",
   "language": "python",
   "name": "python3"
  },
  "language_info": {
   "codemirror_mode": {
    "name": "ipython",
    "version": 3
   },
   "file_extension": ".py",
   "mimetype": "text/x-python",
   "name": "python",
   "nbconvert_exporter": "python",
   "pygments_lexer": "ipython3",
   "version": "3.10.9"
  }
 },
 "nbformat": 4,
 "nbformat_minor": 5
}
